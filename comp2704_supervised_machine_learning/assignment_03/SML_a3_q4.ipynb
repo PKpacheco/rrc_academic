{
 "cells": [
  {
   "cell_type": "markdown",
   "id": "8e94ceaf",
   "metadata": {},
   "source": [
    "### Problem 4\n",
    "In this question you will import data from the CSV file created in the Setup section above."
   ]
  },
  {
   "cell_type": "markdown",
   "id": "8d60078d",
   "metadata": {},
   "source": [
    "### Problem 4\n",
    "This data represents the condition of an electrical mini-substation based on readings from voltage, current and temperature sensor readings. A condition of ‘0’ represents a properly functioning device, while a condition of ‘1’ represents failure."
   ]
  },
  {
   "attachments": {},
   "cell_type": "markdown",
   "id": "e22030ae",
   "metadata": {},
   "source": [
    "### Problem 4\n",
    "#### a) Which is worse for this use case, a false positive or a false negative? What value of β would be suitable for an Fβ score?\n",
    "\n",
    "Let's take positive (a condition of \"1\") as a failure in device and negative (a condition of \"0\") as a properly functioning device.\n",
    "For this use case, a false negative is worse.\n",
    "\n",
    "A false positive will trigger the alert to the engineers. They will go and check but only to find out the electrical mini-substation is functioning properly. Although resources are used to do this check, it is still fine.\n",
    "\n",
    "A false negative will cover up a failure in device and let the engineers think that the device is functioning properly. They cannot fix the failure in time. As a result, the electrical mini-substation may fail entirely and the loss can be huge.\n",
    "\n",
    "Recall measures how many of positive points were correctly predicted by the model. Recall is low when the model creates many false negatives. Recall is a useful metric in models in which we don’t want many false negatives. Since higher values of β give recall more importance, and lower values of β give precision more importance, we would take a higher value of β. A value of 10 for β would be suitable for an Fβ score."
   ]
  },
  {
   "cell_type": "markdown",
   "id": "c216d446",
   "metadata": {},
   "source": [
    "### Problem 4\n",
    "#### b) Load the CSV file into an SFrame named data. Print the SFrame. Split the data into training/validation/testing sets using 80%/10%/10% respectively."
   ]
  },
  {
   "cell_type": "code",
   "execution_count": 50,
   "id": "7525c13a",
   "metadata": {},
   "outputs": [],
   "source": [
    "import turicreate as tc\n",
    "import numpy as np\n",
    "import random"
   ]
  },
  {
   "cell_type": "code",
   "execution_count": 51,
   "id": "8be2816b",
   "metadata": {},
   "outputs": [
    {
     "data": {
      "text/html": [
       "<pre>Finished parsing file /home/jryk/assignment_3/0380915_data.csv</pre>"
      ],
      "text/plain": [
       "Finished parsing file /home/jryk/assignment_3/0380915_data.csv"
      ]
     },
     "metadata": {},
     "output_type": "display_data"
    },
    {
     "name": "stdout",
     "output_type": "stream",
     "text": [
      "------------------------------------------------------\n",
      "Inferred types from first 100 line(s) of file as \n",
      "column_type_hints=[int,float,float,float]\n",
      "If parsing fails due to incorrect types, you can correct\n",
      "the inferred type list above and pass it to read_csv in\n",
      "the column_type_hints argument\n",
      "------------------------------------------------------\n"
     ]
    },
    {
     "data": {
      "text/html": [
       "<pre>Parsing completed. Parsed 100 lines in 0.021123 secs.</pre>"
      ],
      "text/plain": [
       "Parsing completed. Parsed 100 lines in 0.021123 secs."
      ]
     },
     "metadata": {},
     "output_type": "display_data"
    },
    {
     "data": {
      "text/html": [
       "<pre>Finished parsing file /home/jryk/assignment_3/0380915_data.csv</pre>"
      ],
      "text/plain": [
       "Finished parsing file /home/jryk/assignment_3/0380915_data.csv"
      ]
     },
     "metadata": {},
     "output_type": "display_data"
    },
    {
     "data": {
      "text/html": [
       "<pre>Parsing completed. Parsed 1000 lines in 0.005906 secs.</pre>"
      ],
      "text/plain": [
       "Parsing completed. Parsed 1000 lines in 0.005906 secs."
      ]
     },
     "metadata": {},
     "output_type": "display_data"
    }
   ],
   "source": [
    "data = tc.SFrame(\"0380915_data.csv\")"
   ]
  },
  {
   "cell_type": "code",
   "execution_count": 52,
   "id": "e8f188ce",
   "metadata": {},
   "outputs": [
    {
     "data": {
      "text/html": [
       "<div style=\"max-height:1000px;max-width:1500px;overflow:auto;\"><table frame=\"box\" rules=\"cols\">\n",
       "    <tr>\n",
       "        <th style=\"padding-left: 1em; padding-right: 1em; text-align: center\">Condition</th>\n",
       "        <th style=\"padding-left: 1em; padding-right: 1em; text-align: center\">Voltage</th>\n",
       "        <th style=\"padding-left: 1em; padding-right: 1em; text-align: center\">Current</th>\n",
       "        <th style=\"padding-left: 1em; padding-right: 1em; text-align: center\">Temperature</th>\n",
       "    </tr>\n",
       "    <tr>\n",
       "        <td style=\"padding-left: 1em; padding-right: 1em; text-align: center; vertical-align: top\">1</td>\n",
       "        <td style=\"padding-left: 1em; padding-right: 1em; text-align: center; vertical-align: top\">25.666912748577367</td>\n",
       "        <td style=\"padding-left: 1em; padding-right: 1em; text-align: center; vertical-align: top\">443.1776787138455</td>\n",
       "        <td style=\"padding-left: 1em; padding-right: 1em; text-align: center; vertical-align: top\">39.04298008669625</td>\n",
       "    </tr>\n",
       "    <tr>\n",
       "        <td style=\"padding-left: 1em; padding-right: 1em; text-align: center; vertical-align: top\">1</td>\n",
       "        <td style=\"padding-left: 1em; padding-right: 1em; text-align: center; vertical-align: top\">24.93619269601364</td>\n",
       "        <td style=\"padding-left: 1em; padding-right: 1em; text-align: center; vertical-align: top\">443.7752058654272</td>\n",
       "        <td style=\"padding-left: 1em; padding-right: 1em; text-align: center; vertical-align: top\">36.615609013862766</td>\n",
       "    </tr>\n",
       "    <tr>\n",
       "        <td style=\"padding-left: 1em; padding-right: 1em; text-align: center; vertical-align: top\">1</td>\n",
       "        <td style=\"padding-left: 1em; padding-right: 1em; text-align: center; vertical-align: top\">26.431378686661073</td>\n",
       "        <td style=\"padding-left: 1em; padding-right: 1em; text-align: center; vertical-align: top\">440.70519661137064</td>\n",
       "        <td style=\"padding-left: 1em; padding-right: 1em; text-align: center; vertical-align: top\">59.53153475566279</td>\n",
       "    </tr>\n",
       "    <tr>\n",
       "        <td style=\"padding-left: 1em; padding-right: 1em; text-align: center; vertical-align: top\">1</td>\n",
       "        <td style=\"padding-left: 1em; padding-right: 1em; text-align: center; vertical-align: top\">25.75551597941211</td>\n",
       "        <td style=\"padding-left: 1em; padding-right: 1em; text-align: center; vertical-align: top\">444.45465600218176</td>\n",
       "        <td style=\"padding-left: 1em; padding-right: 1em; text-align: center; vertical-align: top\">42.75831261815376</td>\n",
       "    </tr>\n",
       "    <tr>\n",
       "        <td style=\"padding-left: 1em; padding-right: 1em; text-align: center; vertical-align: top\">1</td>\n",
       "        <td style=\"padding-left: 1em; padding-right: 1em; text-align: center; vertical-align: top\">25.97123695471139</td>\n",
       "        <td style=\"padding-left: 1em; padding-right: 1em; text-align: center; vertical-align: top\">442.8046424128778</td>\n",
       "        <td style=\"padding-left: 1em; padding-right: 1em; text-align: center; vertical-align: top\">37.65621788818368</td>\n",
       "    </tr>\n",
       "    <tr>\n",
       "        <td style=\"padding-left: 1em; padding-right: 1em; text-align: center; vertical-align: top\">1</td>\n",
       "        <td style=\"padding-left: 1em; padding-right: 1em; text-align: center; vertical-align: top\">25.88350340890212</td>\n",
       "        <td style=\"padding-left: 1em; padding-right: 1em; text-align: center; vertical-align: top\">444.5814752212545</td>\n",
       "        <td style=\"padding-left: 1em; padding-right: 1em; text-align: center; vertical-align: top\">39.4083109258523</td>\n",
       "    </tr>\n",
       "    <tr>\n",
       "        <td style=\"padding-left: 1em; padding-right: 1em; text-align: center; vertical-align: top\">0</td>\n",
       "        <td style=\"padding-left: 1em; padding-right: 1em; text-align: center; vertical-align: top\">26.94535437487196</td>\n",
       "        <td style=\"padding-left: 1em; padding-right: 1em; text-align: center; vertical-align: top\">442.3878725340347</td>\n",
       "        <td style=\"padding-left: 1em; padding-right: 1em; text-align: center; vertical-align: top\">45.120200601609525</td>\n",
       "    </tr>\n",
       "    <tr>\n",
       "        <td style=\"padding-left: 1em; padding-right: 1em; text-align: center; vertical-align: top\">1</td>\n",
       "        <td style=\"padding-left: 1em; padding-right: 1em; text-align: center; vertical-align: top\">26.490910090226947</td>\n",
       "        <td style=\"padding-left: 1em; padding-right: 1em; text-align: center; vertical-align: top\">444.4899725301915</td>\n",
       "        <td style=\"padding-left: 1em; padding-right: 1em; text-align: center; vertical-align: top\">40.08125414679967</td>\n",
       "    </tr>\n",
       "    <tr>\n",
       "        <td style=\"padding-left: 1em; padding-right: 1em; text-align: center; vertical-align: top\">1</td>\n",
       "        <td style=\"padding-left: 1em; padding-right: 1em; text-align: center; vertical-align: top\">25.279176510841378</td>\n",
       "        <td style=\"padding-left: 1em; padding-right: 1em; text-align: center; vertical-align: top\">442.3930666295656</td>\n",
       "        <td style=\"padding-left: 1em; padding-right: 1em; text-align: center; vertical-align: top\">38.47134221045628</td>\n",
       "    </tr>\n",
       "    <tr>\n",
       "        <td style=\"padding-left: 1em; padding-right: 1em; text-align: center; vertical-align: top\">1</td>\n",
       "        <td style=\"padding-left: 1em; padding-right: 1em; text-align: center; vertical-align: top\">26.083107828134683</td>\n",
       "        <td style=\"padding-left: 1em; padding-right: 1em; text-align: center; vertical-align: top\">441.3197317953561</td>\n",
       "        <td style=\"padding-left: 1em; padding-right: 1em; text-align: center; vertical-align: top\">52.22772264719654</td>\n",
       "    </tr>\n",
       "</table>\n",
       "[1000 rows x 4 columns]<br/>Note: Only the head of the SFrame is printed.<br/>You can use print_rows(num_rows=m, num_columns=n) to print more rows and columns.\n",
       "</div>"
      ],
      "text/plain": [
       "Columns:\n",
       "\tCondition\tint\n",
       "\tVoltage\tfloat\n",
       "\tCurrent\tfloat\n",
       "\tTemperature\tfloat\n",
       "\n",
       "Rows: 1000\n",
       "\n",
       "Data:\n",
       "+-----------+--------------------+--------------------+--------------------+\n",
       "| Condition |      Voltage       |      Current       |    Temperature     |\n",
       "+-----------+--------------------+--------------------+--------------------+\n",
       "|     1     | 25.666912748577367 | 443.1776787138455  | 39.04298008669625  |\n",
       "|     1     | 24.93619269601364  | 443.7752058654272  | 36.615609013862766 |\n",
       "|     1     | 26.431378686661073 | 440.70519661137064 | 59.53153475566279  |\n",
       "|     1     | 25.75551597941211  | 444.45465600218176 | 42.75831261815376  |\n",
       "|     1     | 25.97123695471139  | 442.8046424128778  | 37.65621788818368  |\n",
       "|     1     | 25.88350340890212  | 444.5814752212545  |  39.4083109258523  |\n",
       "|     0     | 26.94535437487196  | 442.3878725340347  | 45.120200601609525 |\n",
       "|     1     | 26.490910090226947 | 444.4899725301915  | 40.08125414679967  |\n",
       "|     1     | 25.279176510841378 | 442.3930666295656  | 38.47134221045628  |\n",
       "|     1     | 26.083107828134683 | 441.3197317953561  | 52.22772264719654  |\n",
       "+-----------+--------------------+--------------------+--------------------+\n",
       "[1000 rows x 4 columns]\n",
       "Note: Only the head of the SFrame is printed.\n",
       "You can use print_rows(num_rows=m, num_columns=n) to print more rows and columns."
      ]
     },
     "execution_count": 52,
     "metadata": {},
     "output_type": "execute_result"
    }
   ],
   "source": [
    "data"
   ]
  },
  {
   "cell_type": "code",
   "execution_count": 53,
   "id": "c6e64f7d",
   "metadata": {},
   "outputs": [],
   "source": [
    "train_data, test_validate_data = data.random_split(.8, seed=0, exact=True)"
   ]
  },
  {
   "cell_type": "code",
   "execution_count": 54,
   "id": "5b2f6284",
   "metadata": {},
   "outputs": [],
   "source": [
    "test_data, validate_data = test_validate_data.random_split(.5, seed=0, exact=True)"
   ]
  },
  {
   "cell_type": "code",
   "execution_count": 55,
   "id": "9474ed30",
   "metadata": {},
   "outputs": [
    {
     "name": "stdout",
     "output_type": "stream",
     "text": [
      "Length of training set: 800\n",
      "Length of validation set: 100\n",
      "Length of testing set: 100\n"
     ]
    }
   ],
   "source": [
    "# check the length of training set\n",
    "print(\"Length of training set:\", len(train_data))\n",
    "print(\"Length of validation set:\", len(validate_data))\n",
    "print(\"Length of testing set:\", len(test_data))"
   ]
  },
  {
   "cell_type": "markdown",
   "id": "3e362526",
   "metadata": {},
   "source": [
    "### Problem 4\n",
    "#### c) Is feature rescaling turned on by default for the function turicreate.logistic_classifier.create? What scale are the coefficients given in?\n",
    "\n",
    "According to the Turi Create User Guide, feature rescaling is turned on by default. [feature_rescaling=True]\n",
    "\n",
    "The coefficients are given in original scale of the problem. \n",
    "\n",
    "https://apple.github.io/turicreate/docs/userguide/supervised-learning/linear-regression.html#feature-rescaling"
   ]
  },
  {
   "cell_type": "markdown",
   "id": "ac549c02",
   "metadata": {},
   "source": [
    "### Problem 4\n",
    "#### d) Create perceptrons using Turicreate to classify data with ‘Condition’ as the target. Be sure to use your validation set in the training. Experiment with different values of hyperparameters to develop two different models."
   ]
  },
  {
   "cell_type": "code",
   "execution_count": 56,
   "id": "23dc12fb",
   "metadata": {},
   "outputs": [
    {
     "data": {
      "text/html": [
       "<pre>Logistic regression:</pre>"
      ],
      "text/plain": [
       "Logistic regression:"
      ]
     },
     "metadata": {},
     "output_type": "display_data"
    },
    {
     "data": {
      "text/html": [
       "<pre>--------------------------------------------------------</pre>"
      ],
      "text/plain": [
       "--------------------------------------------------------"
      ]
     },
     "metadata": {},
     "output_type": "display_data"
    },
    {
     "data": {
      "text/html": [
       "<pre>Number of examples          : 800</pre>"
      ],
      "text/plain": [
       "Number of examples          : 800"
      ]
     },
     "metadata": {},
     "output_type": "display_data"
    },
    {
     "data": {
      "text/html": [
       "<pre>Number of classes           : 2</pre>"
      ],
      "text/plain": [
       "Number of classes           : 2"
      ]
     },
     "metadata": {},
     "output_type": "display_data"
    },
    {
     "data": {
      "text/html": [
       "<pre>Number of feature columns   : 3</pre>"
      ],
      "text/plain": [
       "Number of feature columns   : 3"
      ]
     },
     "metadata": {},
     "output_type": "display_data"
    },
    {
     "data": {
      "text/html": [
       "<pre>Number of unpacked features : 3</pre>"
      ],
      "text/plain": [
       "Number of unpacked features : 3"
      ]
     },
     "metadata": {},
     "output_type": "display_data"
    },
    {
     "data": {
      "text/html": [
       "<pre>Number of coefficients      : 4</pre>"
      ],
      "text/plain": [
       "Number of coefficients      : 4"
      ]
     },
     "metadata": {},
     "output_type": "display_data"
    },
    {
     "data": {
      "text/html": [
       "<pre>Starting Newton Method</pre>"
      ],
      "text/plain": [
       "Starting Newton Method"
      ]
     },
     "metadata": {},
     "output_type": "display_data"
    },
    {
     "data": {
      "text/html": [
       "<pre>--------------------------------------------------------</pre>"
      ],
      "text/plain": [
       "--------------------------------------------------------"
      ]
     },
     "metadata": {},
     "output_type": "display_data"
    },
    {
     "data": {
      "text/html": [
       "<pre>+-----------+----------+--------------+-------------------+---------------------+</pre>"
      ],
      "text/plain": [
       "+-----------+----------+--------------+-------------------+---------------------+"
      ]
     },
     "metadata": {},
     "output_type": "display_data"
    },
    {
     "data": {
      "text/html": [
       "<pre>| Iteration | Passes   | Elapsed Time | Training Accuracy | Validation Accuracy |</pre>"
      ],
      "text/plain": [
       "| Iteration | Passes   | Elapsed Time | Training Accuracy | Validation Accuracy |"
      ]
     },
     "metadata": {},
     "output_type": "display_data"
    },
    {
     "data": {
      "text/html": [
       "<pre>+-----------+----------+--------------+-------------------+---------------------+</pre>"
      ],
      "text/plain": [
       "+-----------+----------+--------------+-------------------+---------------------+"
      ]
     },
     "metadata": {},
     "output_type": "display_data"
    },
    {
     "data": {
      "text/html": [
       "<pre>| 1         | 2        | 0.001434     | 0.906250          | 0.860000            |</pre>"
      ],
      "text/plain": [
       "| 1         | 2        | 0.001434     | 0.906250          | 0.860000            |"
      ]
     },
     "metadata": {},
     "output_type": "display_data"
    },
    {
     "data": {
      "text/html": [
       "<pre>| 2         | 3        | 0.002584     | 0.906250          | 0.860000            |</pre>"
      ],
      "text/plain": [
       "| 2         | 3        | 0.002584     | 0.906250          | 0.860000            |"
      ]
     },
     "metadata": {},
     "output_type": "display_data"
    },
    {
     "data": {
      "text/html": [
       "<pre>| 3         | 4        | 0.003618     | 0.906250          | 0.860000            |</pre>"
      ],
      "text/plain": [
       "| 3         | 4        | 0.003618     | 0.906250          | 0.860000            |"
      ]
     },
     "metadata": {},
     "output_type": "display_data"
    },
    {
     "data": {
      "text/html": [
       "<pre>| 4         | 5        | 0.004584     | 0.906250          | 0.860000            |</pre>"
      ],
      "text/plain": [
       "| 4         | 5        | 0.004584     | 0.906250          | 0.860000            |"
      ]
     },
     "metadata": {},
     "output_type": "display_data"
    },
    {
     "data": {
      "text/html": [
       "<pre>+-----------+----------+--------------+-------------------+---------------------+</pre>"
      ],
      "text/plain": [
       "+-----------+----------+--------------+-------------------+---------------------+"
      ]
     },
     "metadata": {},
     "output_type": "display_data"
    },
    {
     "data": {
      "text/html": [
       "<pre>SUCCESS: Optimal solution found.</pre>"
      ],
      "text/plain": [
       "SUCCESS: Optimal solution found."
      ]
     },
     "metadata": {},
     "output_type": "display_data"
    },
    {
     "data": {
      "text/html": [
       "<pre></pre>"
      ],
      "text/plain": []
     },
     "metadata": {},
     "output_type": "display_data"
    }
   ],
   "source": [
    "perceptron_01 = tc.logistic_classifier.create(\n",
    "    train_data, target=\"Condition\", \n",
    "    l2_penalty=0.01, l1_penalty=0, \n",
    "    validation_set=validate_data, seed=0)"
   ]
  },
  {
   "cell_type": "code",
   "execution_count": 57,
   "id": "9b945315",
   "metadata": {},
   "outputs": [
    {
     "data": {
      "text/html": [
       "<div style=\"max-height:1000px;max-width:1500px;overflow:auto;\"><table frame=\"box\" rules=\"cols\">\n",
       "    <tr>\n",
       "        <th style=\"padding-left: 1em; padding-right: 1em; text-align: center\">name</th>\n",
       "        <th style=\"padding-left: 1em; padding-right: 1em; text-align: center\">index</th>\n",
       "        <th style=\"padding-left: 1em; padding-right: 1em; text-align: center\">class</th>\n",
       "        <th style=\"padding-left: 1em; padding-right: 1em; text-align: center\">value</th>\n",
       "        <th style=\"padding-left: 1em; padding-right: 1em; text-align: center\">stderr</th>\n",
       "    </tr>\n",
       "    <tr>\n",
       "        <td style=\"padding-left: 1em; padding-right: 1em; text-align: center; vertical-align: top\">(intercept)</td>\n",
       "        <td style=\"padding-left: 1em; padding-right: 1em; text-align: center; vertical-align: top\">None</td>\n",
       "        <td style=\"padding-left: 1em; padding-right: 1em; text-align: center; vertical-align: top\">1</td>\n",
       "        <td style=\"padding-left: 1em; padding-right: 1em; text-align: center; vertical-align: top\">-1.2478864522283428</td>\n",
       "        <td style=\"padding-left: 1em; padding-right: 1em; text-align: center; vertical-align: top\">4.671650565067614</td>\n",
       "    </tr>\n",
       "    <tr>\n",
       "        <td style=\"padding-left: 1em; padding-right: 1em; text-align: center; vertical-align: top\">Voltage</td>\n",
       "        <td style=\"padding-left: 1em; padding-right: 1em; text-align: center; vertical-align: top\">None</td>\n",
       "        <td style=\"padding-left: 1em; padding-right: 1em; text-align: center; vertical-align: top\">1</td>\n",
       "        <td style=\"padding-left: 1em; padding-right: 1em; text-align: center; vertical-align: top\">0.10393502860364201</td>\n",
       "        <td style=\"padding-left: 1em; padding-right: 1em; text-align: center; vertical-align: top\">0.1606706706928269</td>\n",
       "    </tr>\n",
       "    <tr>\n",
       "        <td style=\"padding-left: 1em; padding-right: 1em; text-align: center; vertical-align: top\">Current</td>\n",
       "        <td style=\"padding-left: 1em; padding-right: 1em; text-align: center; vertical-align: top\">None</td>\n",
       "        <td style=\"padding-left: 1em; padding-right: 1em; text-align: center; vertical-align: top\">1</td>\n",
       "        <td style=\"padding-left: 1em; padding-right: 1em; text-align: center; vertical-align: top\">-0.0008625299802514587</td>\n",
       "        <td style=\"padding-left: 1em; padding-right: 1em; text-align: center; vertical-align: top\">0.0010394528439117846</td>\n",
       "    </tr>\n",
       "    <tr>\n",
       "        <td style=\"padding-left: 1em; padding-right: 1em; text-align: center; vertical-align: top\">Temperature</td>\n",
       "        <td style=\"padding-left: 1em; padding-right: 1em; text-align: center; vertical-align: top\">None</td>\n",
       "        <td style=\"padding-left: 1em; padding-right: 1em; text-align: center; vertical-align: top\">1</td>\n",
       "        <td style=\"padding-left: 1em; padding-right: 1em; text-align: center; vertical-align: top\">0.022418916249192358</td>\n",
       "        <td style=\"padding-left: 1em; padding-right: 1em; text-align: center; vertical-align: top\">0.014313969542919608</td>\n",
       "    </tr>\n",
       "</table>\n",
       "[4 rows x 5 columns]<br/>\n",
       "</div>"
      ],
      "text/plain": [
       "Columns:\n",
       "\tname\tstr\n",
       "\tindex\tstr\n",
       "\tclass\tint\n",
       "\tvalue\tfloat\n",
       "\tstderr\tfloat\n",
       "\n",
       "Rows: 4\n",
       "\n",
       "Data:\n",
       "+-------------+-------+-------+------------------------+-----------------------+\n",
       "|     name    | index | class |         value          |         stderr        |\n",
       "+-------------+-------+-------+------------------------+-----------------------+\n",
       "| (intercept) |  None |   1   |  -1.2478864522283428   |   4.671650565067614   |\n",
       "|   Voltage   |  None |   1   |  0.10393502860364201   |   0.1606706706928269  |\n",
       "|   Current   |  None |   1   | -0.0008625299802514587 | 0.0010394528439117846 |\n",
       "| Temperature |  None |   1   |  0.022418916249192358  |  0.014313969542919608 |\n",
       "+-------------+-------+-------+------------------------+-----------------------+\n",
       "[4 rows x 5 columns]"
      ]
     },
     "execution_count": 57,
     "metadata": {},
     "output_type": "execute_result"
    }
   ],
   "source": [
    "perceptron_01.coefficients"
   ]
  },
  {
   "cell_type": "code",
   "execution_count": 60,
   "id": "4f0b89b8",
   "metadata": {},
   "outputs": [],
   "source": [
    "results = perceptron_01.evaluate(test_data)"
   ]
  },
  {
   "cell_type": "code",
   "execution_count": 61,
   "id": "24b6c5d0",
   "metadata": {},
   "outputs": [
    {
     "name": "stdout",
     "output_type": "stream",
     "text": [
      "Accuracy         : 0.89\n",
      "Confusion Matrix : \n",
      "+--------------+-----------------+-------+\n",
      "| target_label | predicted_label | count |\n",
      "+--------------+-----------------+-------+\n",
      "|      0       |        1        |   5   |\n",
      "|      1       |        1        |   44  |\n",
      "|      0       |        0        |   45  |\n",
      "|      1       |        0        |   6   |\n",
      "+--------------+-----------------+-------+\n",
      "[4 rows x 3 columns]\n",
      "\n"
     ]
    }
   ],
   "source": [
    "print(\"Accuracy         : %s\" % results['accuracy'])\n",
    "print(\"Confusion Matrix : \\n%s\" % results['confusion_matrix'])"
   ]
  },
  {
   "cell_type": "code",
   "execution_count": 58,
   "id": "9d818659",
   "metadata": {},
   "outputs": [],
   "source": [
    "predictions = perceptron_01.predict(test_data)"
   ]
  },
  {
   "cell_type": "code",
   "execution_count": 62,
   "id": "95857ab6",
   "metadata": {},
   "outputs": [],
   "source": [
    "# Compute boolean filters\n",
    "false_positive_filter = (predictions == 1) & (test_data[perceptron_01.target] == 0)\n",
    "false_negative_filter = (predictions == 0) & (test_data[perceptron_01.target] == 1)\n",
    "\n",
    "false_negatives = test_data[false_negative_filter]\n",
    "false_positives = test_data[false_positive_filter]"
   ]
  },
  {
   "cell_type": "code",
   "execution_count": 63,
   "id": "eb7f176c",
   "metadata": {},
   "outputs": [
    {
     "data": {
      "text/html": [
       "<pre>Logistic regression:</pre>"
      ],
      "text/plain": [
       "Logistic regression:"
      ]
     },
     "metadata": {},
     "output_type": "display_data"
    },
    {
     "data": {
      "text/html": [
       "<pre>--------------------------------------------------------</pre>"
      ],
      "text/plain": [
       "--------------------------------------------------------"
      ]
     },
     "metadata": {},
     "output_type": "display_data"
    },
    {
     "data": {
      "text/html": [
       "<pre>Number of examples          : 800</pre>"
      ],
      "text/plain": [
       "Number of examples          : 800"
      ]
     },
     "metadata": {},
     "output_type": "display_data"
    },
    {
     "data": {
      "text/html": [
       "<pre>Number of classes           : 2</pre>"
      ],
      "text/plain": [
       "Number of classes           : 2"
      ]
     },
     "metadata": {},
     "output_type": "display_data"
    },
    {
     "data": {
      "text/html": [
       "<pre>Number of feature columns   : 3</pre>"
      ],
      "text/plain": [
       "Number of feature columns   : 3"
      ]
     },
     "metadata": {},
     "output_type": "display_data"
    },
    {
     "data": {
      "text/html": [
       "<pre>Number of unpacked features : 3</pre>"
      ],
      "text/plain": [
       "Number of unpacked features : 3"
      ]
     },
     "metadata": {},
     "output_type": "display_data"
    },
    {
     "data": {
      "text/html": [
       "<pre>Number of coefficients      : 4</pre>"
      ],
      "text/plain": [
       "Number of coefficients      : 4"
      ]
     },
     "metadata": {},
     "output_type": "display_data"
    },
    {
     "data": {
      "text/html": [
       "<pre>Starting Accelerated Gradient (FISTA)</pre>"
      ],
      "text/plain": [
       "Starting Accelerated Gradient (FISTA)"
      ]
     },
     "metadata": {},
     "output_type": "display_data"
    },
    {
     "data": {
      "text/html": [
       "<pre>--------------------------------------------------------</pre>"
      ],
      "text/plain": [
       "--------------------------------------------------------"
      ]
     },
     "metadata": {},
     "output_type": "display_data"
    },
    {
     "data": {
      "text/html": [
       "<pre>Tuning step size. First iteration could take longer than subsequent iterations.</pre>"
      ],
      "text/plain": [
       "Tuning step size. First iteration could take longer than subsequent iterations."
      ]
     },
     "metadata": {},
     "output_type": "display_data"
    },
    {
     "data": {
      "text/html": [
       "<pre>+-----------+----------+-----------+--------------+-------------------+---------------------+</pre>"
      ],
      "text/plain": [
       "+-----------+----------+-----------+--------------+-------------------+---------------------+"
      ]
     },
     "metadata": {},
     "output_type": "display_data"
    },
    {
     "data": {
      "text/html": [
       "<pre>| Iteration | Passes   | Step size | Elapsed Time | Training Accuracy | Validation Accuracy |</pre>"
      ],
      "text/plain": [
       "| Iteration | Passes   | Step size | Elapsed Time | Training Accuracy | Validation Accuracy |"
      ]
     },
     "metadata": {},
     "output_type": "display_data"
    },
    {
     "data": {
      "text/html": [
       "<pre>+-----------+----------+-----------+--------------+-------------------+---------------------+</pre>"
      ],
      "text/plain": [
       "+-----------+----------+-----------+--------------+-------------------+---------------------+"
      ]
     },
     "metadata": {},
     "output_type": "display_data"
    },
    {
     "data": {
      "text/html": [
       "<pre>| 0         | 1        | 1.000000  | 0.000225     | 0.485000          | 0.540000            |</pre>"
      ],
      "text/plain": [
       "| 0         | 1        | 1.000000  | 0.000225     | 0.485000          | 0.540000            |"
      ]
     },
     "metadata": {},
     "output_type": "display_data"
    },
    {
     "data": {
      "text/html": [
       "<pre>| 1         | 2        | 0.003425  | 0.007048     | 0.906250          | 0.860000            |</pre>"
      ],
      "text/plain": [
       "| 1         | 2        | 0.003425  | 0.007048     | 0.906250          | 0.860000            |"
      ]
     },
     "metadata": {},
     "output_type": "display_data"
    },
    {
     "data": {
      "text/html": [
       "<pre>| 2         | 3        | 0.003425  | 0.008666     | 0.906250          | 0.860000            |</pre>"
      ],
      "text/plain": [
       "| 2         | 3        | 0.003425  | 0.008666     | 0.906250          | 0.860000            |"
      ]
     },
     "metadata": {},
     "output_type": "display_data"
    },
    {
     "data": {
      "text/html": [
       "<pre>| 3         | 4        | 0.003425  | 0.012653     | 0.906250          | 0.860000            |</pre>"
      ],
      "text/plain": [
       "| 3         | 4        | 0.003425  | 0.012653     | 0.906250          | 0.860000            |"
      ]
     },
     "metadata": {},
     "output_type": "display_data"
    },
    {
     "data": {
      "text/html": [
       "<pre>| 4         | 5        | 0.003425  | 0.013993     | 0.906250          | 0.860000            |</pre>"
      ],
      "text/plain": [
       "| 4         | 5        | 0.003425  | 0.013993     | 0.906250          | 0.860000            |"
      ]
     },
     "metadata": {},
     "output_type": "display_data"
    },
    {
     "data": {
      "text/html": [
       "<pre>| 5         | 6        | 0.003425  | 0.015427     | 0.906250          | 0.860000            |</pre>"
      ],
      "text/plain": [
       "| 5         | 6        | 0.003425  | 0.015427     | 0.906250          | 0.860000            |"
      ]
     },
     "metadata": {},
     "output_type": "display_data"
    },
    {
     "data": {
      "text/html": [
       "<pre>| 10        | 11       | 0.003425  | 0.021841     | 0.906250          | 0.860000            |</pre>"
      ],
      "text/plain": [
       "| 10        | 11       | 0.003425  | 0.021841     | 0.906250          | 0.860000            |"
      ]
     },
     "metadata": {},
     "output_type": "display_data"
    },
    {
     "data": {
      "text/html": [
       "<pre>+-----------+----------+-----------+--------------+-------------------+---------------------+</pre>"
      ],
      "text/plain": [
       "+-----------+----------+-----------+--------------+-------------------+---------------------+"
      ]
     },
     "metadata": {},
     "output_type": "display_data"
    },
    {
     "data": {
      "text/html": [
       "<pre>Completed (Iteration limit reached).</pre>"
      ],
      "text/plain": [
       "Completed (Iteration limit reached)."
      ]
     },
     "metadata": {},
     "output_type": "display_data"
    },
    {
     "data": {
      "text/html": [
       "<pre>This model may not be optimal. To improve it, consider increasing `max_iterations`.</pre>"
      ],
      "text/plain": [
       "This model may not be optimal. To improve it, consider increasing `max_iterations`."
      ]
     },
     "metadata": {},
     "output_type": "display_data"
    }
   ],
   "source": [
    "perceptron_02 = tc.logistic_classifier.create(train, target=\"Condition\", l2_penalty=0.1, l1_penalty=0.1, validation_set=validate, seed=0)"
   ]
  },
  {
   "cell_type": "code",
   "execution_count": 64,
   "id": "f0222bf4",
   "metadata": {},
   "outputs": [
    {
     "data": {
      "text/plain": [
       "Class                          : LogisticClassifier\n",
       "\n",
       "Schema\n",
       "------\n",
       "Number of coefficients         : 4\n",
       "Number of examples             : 800\n",
       "Number of classes              : 2\n",
       "Number of feature columns      : 3\n",
       "Number of unpacked features    : 3\n",
       "\n",
       "Hyperparameters\n",
       "---------------\n",
       "L1 penalty                     : 0.1\n",
       "L2 penalty                     : 0.1\n",
       "\n",
       "Training Summary\n",
       "----------------\n",
       "Solver                         : fista\n",
       "Solver iterations              : 10\n",
       "Solver status                  : Completed (Iteration limit reached).\n",
       "Training time (sec)            : 0.0225\n",
       "\n",
       "Settings\n",
       "--------\n",
       "Log-likelihood                 : 248.7527\n",
       "\n",
       "Highest Positive Coefficients\n",
       "-----------------------------\n",
       "(intercept)                    : 0.1793\n",
       "Voltage                        : 0.0957\n",
       "\n",
       "Lowest Negative Coefficients\n",
       "----------------------------\n",
       "Temperature                    : -0.007\n",
       "Current                        : -0.0004"
      ]
     },
     "execution_count": 64,
     "metadata": {},
     "output_type": "execute_result"
    }
   ],
   "source": [
    "perceptron_02"
   ]
  },
  {
   "cell_type": "code",
   "execution_count": 65,
   "id": "8f86345f",
   "metadata": {},
   "outputs": [
    {
     "data": {
      "text/plain": [
       "{'accuracy': 0.89,\n",
       " 'auc': 0.9222000000000001,\n",
       " 'confusion_matrix': Columns:\n",
       " \ttarget_label\tint\n",
       " \tpredicted_label\tint\n",
       " \tcount\tint\n",
       " \n",
       " Rows: 4\n",
       " \n",
       " Data:\n",
       " +--------------+-----------------+-------+\n",
       " | target_label | predicted_label | count |\n",
       " +--------------+-----------------+-------+\n",
       " |      0       |        1        |   5   |\n",
       " |      1       |        1        |   44  |\n",
       " |      0       |        0        |   45  |\n",
       " |      1       |        0        |   6   |\n",
       " +--------------+-----------------+-------+\n",
       " [4 rows x 3 columns],\n",
       " 'f1_score': 0.888888888888889,\n",
       " 'log_loss': 0.34607038140495633,\n",
       " 'precision': 0.8979591836734694,\n",
       " 'recall': 0.88,\n",
       " 'roc_curve': Columns:\n",
       " \tthreshold\tfloat\n",
       " \tfpr\tfloat\n",
       " \ttpr\tfloat\n",
       " \tp\tint\n",
       " \tn\tint\n",
       " \n",
       " Rows: 1001\n",
       " \n",
       " Data:\n",
       " +-----------+-----+-----+----+----+\n",
       " | threshold | fpr | tpr | p  | n  |\n",
       " +-----------+-----+-----+----+----+\n",
       " |    0.0    | 1.0 | 1.0 | 50 | 50 |\n",
       " |   0.001   | 1.0 | 1.0 | 50 | 50 |\n",
       " |   0.002   | 1.0 | 1.0 | 50 | 50 |\n",
       " |   0.003   | 1.0 | 1.0 | 50 | 50 |\n",
       " |   0.004   | 1.0 | 1.0 | 50 | 50 |\n",
       " |   0.005   | 1.0 | 1.0 | 50 | 50 |\n",
       " |   0.006   | 1.0 | 1.0 | 50 | 50 |\n",
       " |   0.007   | 1.0 | 1.0 | 50 | 50 |\n",
       " |   0.008   | 1.0 | 1.0 | 50 | 50 |\n",
       " |   0.009   | 1.0 | 1.0 | 50 | 50 |\n",
       " +-----------+-----+-----+----+----+\n",
       " [1001 rows x 5 columns]\n",
       " Note: Only the head of the SFrame is printed.\n",
       " You can use print_rows(num_rows=m, num_columns=n) to print more rows and columns.}"
      ]
     },
     "execution_count": 65,
     "metadata": {},
     "output_type": "execute_result"
    }
   ],
   "source": [
    "perceptron_02.evaluate(test)"
   ]
  },
  {
   "cell_type": "markdown",
   "id": "00941571",
   "metadata": {},
   "source": [
    "### Problem 4\n",
    "#### e) For each model:\n",
    "##### i) find predictions using the testing set;\n",
    "##### ii) display the training/validation/testing accuracy;\n",
    "##### iii) display the confusion matrix on the testing set;\n",
    "##### iv) calculate recall, precision, sensitivity and specificity on the testing set;\n",
    "##### v) calculate the Fβ score on the testing set using the value of β you chose above."
   ]
  },
  {
   "cell_type": "markdown",
   "id": "f58d4afe",
   "metadata": {},
   "source": [
    "### Problem 4\n",
    "#### f) Select which of your two models is the best (or declare a tie) and justify your choice."
   ]
  },
  {
   "cell_type": "code",
   "execution_count": null,
   "id": "5c68ad60",
   "metadata": {},
   "outputs": [],
   "source": []
  }
 ],
 "metadata": {
  "kernelspec": {
   "display_name": "Python 3",
   "language": "python",
   "name": "python3"
  },
  "language_info": {
   "codemirror_mode": {
    "name": "ipython",
    "version": 3
   },
   "file_extension": ".py",
   "mimetype": "text/x-python",
   "name": "python",
   "nbconvert_exporter": "python",
   "pygments_lexer": "ipython3",
   "version": "3.6.9"
  }
 },
 "nbformat": 4,
 "nbformat_minor": 5
}
